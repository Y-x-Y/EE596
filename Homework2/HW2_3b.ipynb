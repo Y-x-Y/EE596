{
 "cells": [
  {
   "cell_type": "code",
   "execution_count": 1,
   "metadata": {},
   "outputs": [],
   "source": [
    "import tensorflow as tf\n",
    "import pickle\n",
    "import numpy as np\n",
    "import timeit\n",
    "import load_cifar\n",
    "from sklearn.utils import shuffle\n",
    "from tensorflow.contrib.layers import flatten"
   ]
  },
  {
   "cell_type": "code",
   "execution_count": 2,
   "metadata": {},
   "outputs": [],
   "source": [
    "tf.reset_default_graph()"
   ]
  },
  {
   "cell_type": "code",
   "execution_count": 3,
   "metadata": {},
   "outputs": [],
   "source": [
    "val_features, val_labels = pickle.load(open('val_data.pickle','rb'))\n",
    "train_features,train_labels = pickle.load(open('train_data.pickle','rb'))\n",
    "test_features, test_labels = pickle.load(open('test_data.pickle','rb'))\n",
    "train_features = load_cifar.features_reshape(train_features)\n",
    "val_features = load_cifar.features_reshape(val_features)\n",
    "test_features = load_cifar.features_reshape(test_features)\n",
    "val_labels = np.squeeze(val_labels.todense())\n",
    "train_labels = np.squeeze(train_labels.todense())\n",
    "test_labels = np.squeeze(test_labels.todense())"
   ]
  },
  {
   "cell_type": "markdown",
   "metadata": {},
   "source": [
    "<h1>Hyperparameter</h1>"
   ]
  },
  {
   "cell_type": "code",
   "execution_count": 4,
   "metadata": {},
   "outputs": [],
   "source": [
    "#learning rate\n",
    "lr = 0.0008\n",
    "#number of traning epochs\n",
    "epochs = 10\n",
    "#number of batch_size\n",
    "batch_size = 32\n",
    "total_batch = int(40000/batch_size)\n",
    "num_steps = (epochs+1) * total_batch\n",
    "num_classes = 10\n",
    "W = 32\n",
    "H = 32\n",
    "channel = 3"
   ]
  },
  {
   "cell_type": "markdown",
   "metadata": {},
   "source": [
    "<h1>Placeholder</h1>"
   ]
  },
  {
   "cell_type": "code",
   "execution_count": 5,
   "metadata": {},
   "outputs": [],
   "source": [
    "X = tf.placeholder(tf.float32,[None,W, H, channel],name='X')\n",
    "Y = tf.placeholder(tf.int32,[None,num_classes],name='Y')"
   ]
  },
  {
   "cell_type": "markdown",
   "metadata": {},
   "source": [
    "<h1>LeNet-5</h1>"
   ]
  },
  {
   "cell_type": "code",
   "execution_count": 6,
   "metadata": {},
   "outputs": [],
   "source": [
    "def LeNet(x):    \n",
    "    # Conv Layer 1\n",
    "    conv1_w = tf.Variable(tf.truncated_normal(shape = [5,5,3,6], mean = 0, stddev = 0.1))\n",
    "    conv1_b = tf.Variable(tf.zeros(6))\n",
    "    conv1 = tf.nn.conv2d(x,conv1_w, strides = [1,1,1,1], padding = 'VALID') + conv1_b\n",
    "    conv1 = tf.nn.relu(conv1)\n",
    "\n",
    "    # Pooling Layer 1\n",
    "    pool_1 = tf.nn.max_pool(conv1, ksize = [1,2,2,1], strides = [1,2,2,1], padding = 'VALID')\n",
    "    \n",
    "    # Conv Layer 2\n",
    "    conv2_w = tf.Variable(tf.truncated_normal(shape = [5,5,6,16], mean = 0, stddev = 0.1))\n",
    "    conv2_b = tf.Variable(tf.zeros(16))\n",
    "    conv2 = tf.nn.conv2d(pool_1, conv2_w, strides = [1,1,1,1], padding = 'VALID') + conv2_b\n",
    "    conv2 = tf.nn.relu(conv2)\n",
    "\n",
    "    # Pooling Layer 2\n",
    "    pool_2 = tf.nn.max_pool(conv2, ksize = [1,2,2,1], strides = [1,2,2,1], padding = 'VALID') \n",
    "    \n",
    "    # Conv Layer 3\n",
    "    conv3 = flatten(pool_2)\n",
    "    conv3_w = tf.Variable(tf.truncated_normal(shape = (400,120), mean = 0, stddev = 0.1))\n",
    "    conv3_b = tf.Variable(tf.zeros(120))\n",
    "    conv3 = tf.matmul(conv3,conv3_w) + conv3_b\n",
    "    conv3 = tf.nn.relu(conv3)\n",
    "\n",
    "    # Fully Connected Layer 1\n",
    "    fc2_w = tf.Variable(tf.truncated_normal(shape = (120,84), mean = 0, stddev = 0.1))\n",
    "    fc2_b = tf.Variable(tf.zeros(84))\n",
    "    fc2 = tf.matmul(conv3,fc2_w) + fc2_b\n",
    "    fc2 = tf.nn.relu(fc2)\n",
    "    \n",
    "    # Fully Connected Layer 2\n",
    "    fc3_w = tf.Variable(tf.truncated_normal(shape = (84,10), mean = 0, stddev = 0.1))\n",
    "    fc3_b = tf.Variable(tf.zeros(10))\n",
    "    logits = tf.matmul(fc2, fc3_w) + fc3_b\n",
    "    return logits"
   ]
  },
  {
   "cell_type": "markdown",
   "metadata": {},
   "source": [
    "<h1>Cost and Optimization</h1>"
   ]
  },
  {
   "cell_type": "code",
   "execution_count": 7,
   "metadata": {},
   "outputs": [],
   "source": [
    "logits = LeNet(X)\n",
    "cost = tf.reduce_mean(tf.nn.softmax_cross_entropy_with_logits_v2(logits = logits, labels = Y))\n",
    "optimizer = tf.train.AdamOptimizer(learning_rate = lr)\n",
    "train_op = optimizer.minimize(cost)\n",
    "\n",
    "correct_pred = tf.equal(tf.argmax(logits, 1), tf.argmax(Y, 1))\n",
    "accuracy = tf.reduce_mean(tf.cast(correct_pred, tf.float32))\n",
    "\n",
    "init = tf.global_variables_initializer()"
   ]
  },
  {
   "cell_type": "markdown",
   "metadata": {},
   "source": [
    "<h1>Training, validation and testing</h1>\n",
    "<h2>Train your model only 10 epochs.</h2>\n",
    "<h2>1.Print out validation accuracy after each training epoch</h2>\n",
    "<h2>2.Print out training time for each training epoch</h2>\n",
    "<h2>3.Print out testing accuracy</h2>"
   ]
  },
  {
   "cell_type": "code",
   "execution_count": 8,
   "metadata": {},
   "outputs": [],
   "source": [
    "def next_batch(batch_size):\n",
    "    idx = np.arange(0 , len(train_features))\n",
    "    np.random.shuffle(idx)\n",
    "    idx = idx[:batch_size]\n",
    "    data_shuffle = [train_features[i] for i in idx]\n",
    "    labels_shuffle = [train_labels[i] for i in idx]\n",
    "    data_shuffle = np.asarray(data_shuffle)\n",
    "    labels_shuffle = np.asarray(labels_shuffle)\n",
    "    labels_shuffle = np.squeeze(labels_shuffle)\n",
    "    return data_shuffle, labels_shuffle"
   ]
  },
  {
   "cell_type": "code",
   "execution_count": 9,
   "metadata": {},
   "outputs": [
    {
     "name": "stdout",
     "output_type": "stream",
     "text": [
      "Epoch 1.0, Accuracy: 0.594\n",
      "Epoch 2.0, Accuracy: 0.312\n",
      "Epoch 3.0, Accuracy: 0.781\n",
      "Epoch 4.0, Accuracy: 0.594\n",
      "Epoch 5.0, Accuracy: 0.812\n",
      "Epoch 6.0, Accuracy: 0.688\n",
      "Epoch 7.0, Accuracy: 0.594\n",
      "Epoch 8.0, Accuracy: 0.844\n",
      "Epoch 9.0, Accuracy: 0.594\n",
      "Epoch 10.0, Accuracy: 0.594\n",
      "Training finished!\n",
      "Testing Accuracy::0.599\n"
     ]
    }
   ],
   "source": [
    "with tf.Session() as sess:\n",
    "    sess.run(init)\n",
    "    # Timer\n",
    "    for i in range(num_steps):\n",
    "        # fetch batch\n",
    "        batch_x, batch_y = next_batch(batch_size)\n",
    "        # run optimization\n",
    "        sess.run(train_op, feed_dict={X: batch_x, Y: batch_y})\n",
    "        if (i > 1) and (i % total_batch == 0):\n",
    "            acc = sess.run(accuracy, feed_dict={X: batch_x, Y: batch_y})\n",
    "            print(\"Epoch \" + str(i/total_batch) + \", Accuracy: {:.3f}\".format(acc))\n",
    "\n",
    "    print(\"Training finished!\")\n",
    "\n",
    "    print(\"Testing Accuracy::{:.3f}\".format(float(sess.run(accuracy, feed_dict={X: test_features, Y: test_labels}))))"
   ]
  }
 ],
 "metadata": {
  "kernelspec": {
   "display_name": "Python 3",
   "language": "python",
   "name": "python3"
  },
  "language_info": {
   "codemirror_mode": {
    "name": "ipython",
    "version": 3
   },
   "file_extension": ".py",
   "mimetype": "text/x-python",
   "name": "python",
   "nbconvert_exporter": "python",
   "pygments_lexer": "ipython3",
   "version": "3.5.2"
  }
 },
 "nbformat": 4,
 "nbformat_minor": 2
}
