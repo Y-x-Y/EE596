{
 "cells": [
  {
   "cell_type": "code",
   "execution_count": 1,
   "metadata": {},
   "outputs": [],
   "source": [
    "import tensorflow as tf\n",
    "import pickle\n",
    "import numpy as np\n",
    "import timeit\n",
    "import time\n",
    "import load_cifar"
   ]
  },
  {
   "cell_type": "code",
   "execution_count": 2,
   "metadata": {},
   "outputs": [],
   "source": [
    "tf.reset_default_graph()"
   ]
  },
  {
   "cell_type": "markdown",
   "metadata": {},
   "source": [
    "<h1>Define Hyper-perparmeter</h1>"
   ]
  },
  {
   "cell_type": "code",
   "execution_count": 3,
   "metadata": {},
   "outputs": [],
   "source": [
    "val_features, val_labels = pickle.load(open('val_data.pickle','rb'))\n",
    "train_features,train_labels = pickle.load(open('train_data.pickle','rb'))\n",
    "test_features, test_labels = pickle.load(open('test_data.pickle','rb'))\n",
    "val_labels = np.squeeze(val_labels.todense())\n",
    "train_labels = np.squeeze(train_labels.todense())\n",
    "test_labels = np.squeeze(test_labels.todense())\n",
    "\n",
    "#learning rate\n",
    "lr = 0.001\n",
    "#number of traning epochs\n",
    "epochs = 10\n",
    "#number of batch_size\n",
    "batch_size = 32\n",
    "total_batch = int(40000/batch_size)\n",
    "num_steps = (epochs+1) * total_batch\n",
    "\n",
    "#network parameters\n",
    "n_hidden_1 = 800\n",
    "n_hidden_2 = 400\n",
    "n_hidden_3 = 200\n",
    "n_hidden_4 = 100\n",
    "n_hidden_5 = 60\n",
    "n_hidden_6 = 30\n",
    "num_input = 3072\n",
    "num_classes = 10"
   ]
  },
  {
   "cell_type": "markdown",
   "metadata": {},
   "source": [
    "<h1>Define Placeholder</h1>"
   ]
  },
  {
   "cell_type": "code",
   "execution_count": 4,
   "metadata": {},
   "outputs": [],
   "source": [
    "X = tf.placeholder(tf.float32,[None,num_input],name='X')\n",
    "Y = tf.placeholder(tf.int32,[None,num_classes],name='Y')\n",
    "#Layers weight & bias\n",
    "weights = {\n",
    "    'W1': tf.Variable(tf.random_normal([num_input, n_hidden_1],stddev=0.1),name='W1'),\n",
    "    'W2': tf.Variable(tf.random_normal([n_hidden_1, n_hidden_2],stddev=0.1),name='W2'),\n",
    "    'W3': tf.Variable(tf.random_normal([n_hidden_2, n_hidden_3],stddev=0.1), name='W3'),\n",
    "    'W4': tf.Variable(tf.random_normal([n_hidden_3, n_hidden_4],stddev=0.1), name='W4'),\n",
    "    'W5': tf.Variable(tf.random_normal([n_hidden_4, n_hidden_5],stddev=0.1), name='W5'),\n",
    "    'W6': tf.Variable(tf.random_normal([n_hidden_5, n_hidden_6],stddev=0.1), name='W6'),\n",
    "    'Wout': tf.Variable(tf.random_normal([n_hidden_6, num_classes],stddev=0.1),name='Wout')\n",
    "}\n",
    "\n",
    "biases = {\n",
    "    'b1': tf.Variable(tf.zeros(shape=[n_hidden_1]),name='b1'),\n",
    "    'b2': tf.Variable(tf.zeros(shape=[n_hidden_2]),name='b2'),\n",
    "    'b3': tf.Variable(tf.zeros(shape=[n_hidden_3]),name='b3'),\n",
    "    'b4': tf.Variable(tf.zeros(shape=[n_hidden_4]),name='b4'),\n",
    "    'b5': tf.Variable(tf.zeros(shape=[n_hidden_5]), name='b5'),\n",
    "    'b6': tf.Variable(tf.zeros(shape=[n_hidden_6]), name='b6'),\n",
    "    'bout': tf.Variable(tf.zeros(shape=[num_classes]),name='bout')\n",
    "}"
   ]
  },
  {
   "cell_type": "markdown",
   "metadata": {},
   "source": [
    "<h1>Define Neural Network Architecture</h1>"
   ]
  },
  {
   "cell_type": "code",
   "execution_count": 5,
   "metadata": {},
   "outputs": [],
   "source": [
    "#define a neural net model\n",
    "def neural_net(x):\n",
    "    layer_1_out = tf.nn.relu(tf.add(tf.matmul(x,weights['W1']),biases['b1']))\n",
    "    layer_2_out = tf.nn.relu(tf.add(tf.matmul(layer_1_out,weights['W2']),biases['b2']))\n",
    "    layer_3_out = tf.nn.relu(tf.add(tf.matmul(layer_2_out, weights['W3']), biases['b3']))\n",
    "    layer_4_out = tf.nn.relu(tf.add(tf.matmul(layer_3_out, weights['W4']), biases['b4']))\n",
    "    layer_5_out = tf.nn.relu(tf.add(tf.matmul(layer_4_out, weights['W5']), biases['b5']))\n",
    "    layer_6_out = tf.nn.relu(tf.add(tf.matmul(layer_5_out, weights['W6']), biases['b6']))\n",
    "    out = tf.add(tf.matmul(layer_6_out,weights['Wout']),biases['bout'])\n",
    "    return out\n",
    "\n",
    "#predicted labels\n",
    "logits = neural_net(X)\n",
    "Y_hat = tf.nn.softmax(logits)"
   ]
  },
  {
   "cell_type": "markdown",
   "metadata": {},
   "source": [
    "<h1>Define cost andoptimization</h1>"
   ]
  },
  {
   "cell_type": "code",
   "execution_count": 6,
   "metadata": {},
   "outputs": [],
   "source": [
    "#define cost\n",
    "cost = tf.reduce_mean(tf.nn.softmax_cross_entropy_with_logits_v2(logits=logits,labels=Y),name='cost')\n",
    "#define optimizer\n",
    "optimizer = tf.train.AdamOptimizer(learning_rate=lr)\n",
    "train_op = optimizer.minimize(cost)\n",
    "\n",
    "#compare the predicted labels with true labels\n",
    "correct_pred = tf.equal(tf.argmax(Y_hat,1),tf.argmax(Y,1))\n",
    "\n",
    "#compute the accuracy by taking average\n",
    "accuracy = tf.reduce_mean(tf.cast(correct_pred,tf.float32),name='accuracy')\n",
    "\n",
    "#Initialize the variables\n",
    "init = tf.global_variables_initializer()"
   ]
  },
  {
   "cell_type": "markdown",
   "metadata": {},
   "source": [
    "<h1>Training and testing</h1>\n",
    "<h2>1.Print out validation accuracy after each training poch</h2>\n",
    "<h2>2.Print out training time you spend on each epoch</h2>\n",
    "<h2>3.Print out testing accuracy in the end</h2>"
   ]
  },
  {
   "cell_type": "code",
   "execution_count": 7,
   "metadata": {},
   "outputs": [],
   "source": [
    "def next_batch(batch_size):\n",
    "    idx = np.arange(0 , len(train_features))\n",
    "    np.random.shuffle(idx)\n",
    "    idx = idx[:batch_size]\n",
    "    data_shuffle = [train_features[i] for i in idx]\n",
    "    labels_shuffle = [train_labels[i] for i in idx]\n",
    "    data_shuffle = np.asarray(data_shuffle)\n",
    "    labels_shuffle = np.asarray(labels_shuffle)\n",
    "    labels_shuffle = np.squeeze(labels_shuffle)\n",
    "    return data_shuffle, labels_shuffle"
   ]
  },
  {
   "cell_type": "code",
   "execution_count": 11,
   "metadata": {
    "scrolled": false
   },
   "outputs": [
    {
     "name": "stdout",
     "output_type": "stream",
     "text": [
      "Epoch 1.0, Accuracy: 0.250, Time: 9.264\t\n",
      "Validation Accuracy:0.274\n",
      "Epoch 2.0, Accuracy: 0.406, Time: 9.280\t\n",
      "Validation Accuracy:0.362\n",
      "Epoch 3.0, Accuracy: 0.344, Time: 7.991\t\n",
      "Validation Accuracy:0.387\n",
      "Epoch 4.0, Accuracy: 0.500, Time: 9.069\t\n",
      "Validation Accuracy:0.429\n",
      "Epoch 5.0, Accuracy: 0.469, Time: 7.706\t\n",
      "Validation Accuracy:0.435\n",
      "Epoch 6.0, Accuracy: 0.750, Time: 6.266\t\n",
      "Validation Accuracy:0.461\n",
      "Epoch 7.0, Accuracy: 0.500, Time: 6.737\t\n",
      "Validation Accuracy:0.484\n",
      "Epoch 8.0, Accuracy: 0.500, Time: 7.144\t\n",
      "Validation Accuracy:0.474\n",
      "Epoch 9.0, Accuracy: 0.500, Time: 8.881\t\n",
      "Validation Accuracy:0.513\n",
      "Epoch 10.0, Accuracy: 0.531, Time: 9.125\t\n",
      "Validation Accuracy:0.517\n",
      "Training finished!\n",
      "Testing Accuracy::0.519\n"
     ]
    }
   ],
   "source": [
    "with tf.Session() as sess:\n",
    "    sess.run(init)\n",
    "    # Timer\n",
    "    time_start = time.time()\n",
    "    for i in range(num_steps):\n",
    "        # fetch batch\n",
    "        batch_x, batch_y = next_batch(batch_size)\n",
    "        # run optimization\n",
    "        sess.run(train_op, feed_dict={X: batch_x, Y: batch_y})\n",
    "        if (i > 1) and (i % total_batch == 0):\n",
    "            time_end = time.time()\n",
    "            acc = sess.run(accuracy, feed_dict={X: batch_x, Y: batch_y})\n",
    "            print(\"Epoch \" + str(i/total_batch) + \", Accuracy: {:.3f}\".format(acc)+ \", Time: {:.3f}\\t\".format(time_end-time_start))\n",
    "            print(\"Validation Accuracy:{:.3f}\".format(float(sess.run(accuracy, feed_dict={X: val_features, Y: val_labels}))))\n",
    "            time_start = time.time()\n",
    "\n",
    "    print(\"Training finished!\")\n",
    "\n",
    "    print(\"Testing Accuracy::{:.3f}\".format(float(sess.run(accuracy, feed_dict={X: test_features, Y: test_labels}))))"
   ]
  }
 ],
 "metadata": {
  "kernelspec": {
   "display_name": "Python 3",
   "language": "python",
   "name": "python3"
  },
  "language_info": {
   "codemirror_mode": {
    "name": "ipython",
    "version": 3
   },
   "file_extension": ".py",
   "mimetype": "text/x-python",
   "name": "python",
   "nbconvert_exporter": "python",
   "pygments_lexer": "ipython3",
   "version": "3.5.2"
  }
 },
 "nbformat": 4,
 "nbformat_minor": 2
}
