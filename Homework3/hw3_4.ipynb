{
 "cells": [
  {
   "cell_type": "code",
   "execution_count": 2,
   "metadata": {},
   "outputs": [
    {
     "data": {
      "text/html": [
       "<style>.container { width:100% !important; }</style>"
      ],
      "text/plain": [
       "<IPython.core.display.HTML object>"
      ]
     },
     "metadata": {},
     "output_type": "display_data"
    }
   ],
   "source": [
    "from IPython.core.display import display, HTML\n",
    "display(HTML(\"<style>.container { width:100% !important; }</style>\"))"
   ]
  },
  {
   "cell_type": "code",
   "execution_count": 3,
   "metadata": {},
   "outputs": [
    {
     "name": "stderr",
     "output_type": "stream",
     "text": [
      "Using TensorFlow backend.\n"
     ]
    }
   ],
   "source": [
    "import tensorflow as tf\n",
    "import timeit\n",
    "import os\n",
    "from six.moves import cPickle\n",
    "from text_utils import *\n",
    "from tensorflow.contrib import rnn\n",
    "from char_rnn_model import *"
   ]
  },
  {
   "cell_type": "markdown",
   "metadata": {},
   "source": [
    "# Define directories, hyperparameter"
   ]
  },
  {
   "cell_type": "code",
   "execution_count": 10,
   "metadata": {},
   "outputs": [],
   "source": [
    "n_epoch = 3\n",
    "batch_size = 128"
   ]
  },
  {
   "cell_type": "markdown",
   "metadata": {},
   "source": [
    "# Load data using TextLoader object"
   ]
  },
  {
   "cell_type": "code",
   "execution_count": 5,
   "metadata": {},
   "outputs": [],
   "source": [
    "file = 'shakespeare.txt'\n",
    "seq_len, char = load_txt(file)"
   ]
  },
  {
   "cell_type": "markdown",
   "metadata": {},
   "source": [
    "# Create your model object"
   ]
  },
  {
   "cell_type": "code",
   "execution_count": 6,
   "metadata": {},
   "outputs": [],
   "source": [
    "n_char = len(char)\n",
    "n_neurons = 128\n",
    "lr = 0.001\n",
    "model = build_model(lr, n_neurons, seq_len, n_char)"
   ]
  },
  {
   "cell_type": "markdown",
   "metadata": {},
   "source": [
    "# Training"
   ]
  },
  {
   "cell_type": "code",
   "execution_count": 11,
   "metadata": {},
   "outputs": [
    {
     "name": "stdout",
     "output_type": "stream",
     "text": [
      "Epoch 1/3\n",
      "1524433/1524433 [==============================] - 712s 467us/step - loss: 1.7973\n",
      "Epoch 2/3\n",
      "1524433/1524433 [==============================] - 731s 480us/step - loss: 1.6334\n",
      "Epoch 3/3\n",
      "1524433/1524433 [==============================] - 729s 478us/step - loss: 1.5597\n"
     ]
    }
   ],
   "source": [
    "train = model.fit(x, y, batch_size=batch_size, epochs=n_epoch)"
   ]
  },
  {
   "cell_type": "markdown",
   "metadata": {},
   "source": [
    "# Generating Text"
   ]
  },
  {
   "cell_type": "code",
   "execution_count": 14,
   "metadata": {},
   "outputs": [
    {
     "name": "stdout",
     "output_type": "stream",
     "text": [
      "ount the world a stranger for thy sake.\n",
      "\n",
      "constand:\n",
      "the bear hath promise the earth and friend\n",
      "as would gentle about of breather?\n",
      "\n",
      "bertram:\n",
      "\n",
      "prospero:\n",
      "i warrant him and play him thy good worse\n",
      "that say there is a forth of my should have\n",
      "that make your salse with again; i have well.\n",
      "\n",
      "king richard ii:\n",
      "go we may be a king of thy that will be the see.\n",
      "\n",
      "bauninius:\n",
      "i think in man and the deeminess to thee and streath.\n",
      "\n",
      "antipholus:\n",
      "no, i come and honour by the berest part\n",
      "for the season of thee to known so but not\n",
      "that are better that some seem the bound, and therefore, good madam;\n",
      "where's it was was too stander villant:\n",
      "and as the strange and dear that shall be so:\n",
      "farewell, and with a beding of my lord.\n",
      "\n",
      "mistress pardina:\n",
      "what's the king your bear: the bear thou see\n",
      "the faeth to her like a counteral make of him was\n",
      "shill not or man and shall i spoke the good way\n",
      "it as man that cannot the charme by the\n",
      "world and meching wasse all that she shall one to heard\n",
      "that are a sparent that pray you are that\n",
      "a fortunes, late.\n",
      "\n",
      "beranda:\n",
      "thou \n"
     ]
    }
   ],
   "source": [
    "generate()"
   ]
  }
 ],
 "metadata": {
  "kernelspec": {
   "display_name": "Python 3",
   "language": "python",
   "name": "python3"
  },
  "language_info": {
   "codemirror_mode": {
    "name": "ipython",
    "version": 3
   },
   "file_extension": ".py",
   "mimetype": "text/x-python",
   "name": "python",
   "nbconvert_exporter": "python",
   "pygments_lexer": "ipython3",
   "version": "3.5.2"
  }
 },
 "nbformat": 4,
 "nbformat_minor": 1
}
