{
 "cells": [
  {
   "cell_type": "code",
   "execution_count": 1,
   "metadata": {},
   "outputs": [],
   "source": [
    "import tensorflow as tf\n",
    "import numpy as np\n",
    "import pandas as pd\n",
    "from pandas import get_dummies\n",
    "import matplotlib.pyplot as plt\n",
    "from sklearn.model_selection import train_test_split"
   ]
  },
  {
   "cell_type": "markdown",
   "metadata": {},
   "source": [
    "<h1>Load data</h1>"
   ]
  },
  {
   "cell_type": "code",
   "execution_count": 2,
   "metadata": {},
   "outputs": [],
   "source": [
    "file_name = \"iris.data.csv\""
   ]
  },
  {
   "cell_type": "code",
   "execution_count": 3,
   "metadata": {},
   "outputs": [
    {
     "data": {
      "text/html": [
       "<div>\n",
       "<style scoped>\n",
       "    .dataframe tbody tr th:only-of-type {\n",
       "        vertical-align: middle;\n",
       "    }\n",
       "\n",
       "    .dataframe tbody tr th {\n",
       "        vertical-align: top;\n",
       "    }\n",
       "\n",
       "    .dataframe thead th {\n",
       "        text-align: right;\n",
       "    }\n",
       "</style>\n",
       "<table border=\"1\" class=\"dataframe\">\n",
       "  <thead>\n",
       "    <tr style=\"text-align: right;\">\n",
       "      <th></th>\n",
       "      <th>sepal_length</th>\n",
       "      <th>sepal_width</th>\n",
       "      <th>petal_length</th>\n",
       "      <th>petal_width</th>\n",
       "      <th>species</th>\n",
       "    </tr>\n",
       "  </thead>\n",
       "  <tbody>\n",
       "    <tr>\n",
       "      <th>0</th>\n",
       "      <td>5.1</td>\n",
       "      <td>3.5</td>\n",
       "      <td>1.4</td>\n",
       "      <td>0.2</td>\n",
       "      <td>Iris-setosa</td>\n",
       "    </tr>\n",
       "    <tr>\n",
       "      <th>1</th>\n",
       "      <td>4.9</td>\n",
       "      <td>3.0</td>\n",
       "      <td>1.4</td>\n",
       "      <td>0.2</td>\n",
       "      <td>Iris-setosa</td>\n",
       "    </tr>\n",
       "    <tr>\n",
       "      <th>2</th>\n",
       "      <td>4.7</td>\n",
       "      <td>3.2</td>\n",
       "      <td>1.3</td>\n",
       "      <td>0.2</td>\n",
       "      <td>Iris-setosa</td>\n",
       "    </tr>\n",
       "    <tr>\n",
       "      <th>3</th>\n",
       "      <td>4.6</td>\n",
       "      <td>3.1</td>\n",
       "      <td>1.5</td>\n",
       "      <td>0.2</td>\n",
       "      <td>Iris-setosa</td>\n",
       "    </tr>\n",
       "    <tr>\n",
       "      <th>4</th>\n",
       "      <td>5.0</td>\n",
       "      <td>3.6</td>\n",
       "      <td>1.4</td>\n",
       "      <td>0.2</td>\n",
       "      <td>Iris-setosa</td>\n",
       "    </tr>\n",
       "  </tbody>\n",
       "</table>\n",
       "</div>"
      ],
      "text/plain": [
       "   sepal_length  sepal_width  petal_length  petal_width      species\n",
       "0           5.1          3.5           1.4          0.2  Iris-setosa\n",
       "1           4.9          3.0           1.4          0.2  Iris-setosa\n",
       "2           4.7          3.2           1.3          0.2  Iris-setosa\n",
       "3           4.6          3.1           1.5          0.2  Iris-setosa\n",
       "4           5.0          3.6           1.4          0.2  Iris-setosa"
      ]
     },
     "execution_count": 3,
     "metadata": {},
     "output_type": "execute_result"
    }
   ],
   "source": [
    "#load the dataset into memory\n",
    "dataset = pd.read_csv(file_name,header=None,\\\n",
    "                      names=['sepal_length','sepal_width','petal_length','petal_width','species'])\n",
    "#check several examples of data\n",
    "dataset.head()"
   ]
  },
  {
   "cell_type": "markdown",
   "metadata": {},
   "source": [
    "<h1>Data preprocessing</h1>"
   ]
  },
  {
   "cell_type": "code",
   "execution_count": 4,
   "metadata": {},
   "outputs": [],
   "source": [
    "#simple function to process the data.\n",
    "\"\"\"\n",
    "input:\n",
    "    data: iris dataset\n",
    "    num_features: 2 => select only petal width and petal width.\n",
    "                  4 => select all features\n",
    "    flower: 'Iris-setosa' => labels of Iris-setosa will be 1 and others will be 0\n",
    "            'Iris-virginica' => labels of Iris-virginica will be 1 and others will be 0\n",
    "            'None' => use one-hot encoding to represent the labels\n",
    "\n",
    "return:\n",
    "    x: normalized & shuffled data\n",
    "    y: labels\n",
    "\"\"\"\n",
    "def data_preprocessing(data,num_features,flower=None):\n",
    "    if num_features==2:\n",
    "        features = data.columns[2:4]\n",
    "    else:\n",
    "        features = data.columns[0:4]\n",
    "    labels = dataset.columns[4]\n",
    "    print(features)\n",
    "    print(labels)\n",
    "    #normalize the data\n",
    "    data_norm = pd.DataFrame(data)\n",
    "    for feature in features:\n",
    "        data[feature] = (data[feature]-data[feature].mean())/data[feature].std()\n",
    "\n",
    "    #shuffle the data\n",
    "    indices = data_norm.index.tolist()\n",
    "    indices = np.array(indices)\n",
    "    np.random.shuffle(indices)\n",
    "    x = data_norm.reindex(indices)[features]\n",
    "    y = data_norm.reindex(indices)[labels]\n",
    "    if flower=='Iris-setosa':\n",
    "        for i in range(len(y)):\n",
    "            y[i]=1 if y[i]=='Iris-setosa' else 0\n",
    "        y = y.values.reshape(len(y),1)\n",
    "    elif flower=='Iris-virginica':\n",
    "        for i in range(len(y)):\n",
    "            y[i]=1 if y[i]=='Iris-virginica' else 0\n",
    "        y = y.values.reshape(len(y),1)\n",
    "    else:\n",
    "        y = get_dummies(y)\n",
    "    return x,y"
   ]
  },
  {
   "cell_type": "markdown",
   "metadata": {},
   "source": [
    "<h1>Part a:"
   ]
  },
  {
   "cell_type": "code",
   "execution_count": 5,
   "metadata": {},
   "outputs": [
    {
     "name": "stdout",
     "output_type": "stream",
     "text": [
      "Index(['petal_length', 'petal_width'], dtype='object')\n",
      "species\n"
     ]
    }
   ],
   "source": [
    "x_1,y_1 = data_preprocessing(dataset,2,flower='Iris-setosa')\n",
    "#generate traning and validation sets\n",
    "x_train_1, x_test_1, y_train_1, y_test_1 = train_test_split(x_1,y_1,test_size=0.3)"
   ]
  },
  {
   "cell_type": "markdown",
   "metadata": {},
   "source": [
    "<h2>Define hyper-parameters</h2>"
   ]
  },
  {
   "cell_type": "code",
   "execution_count": 6,
   "metadata": {},
   "outputs": [],
   "source": [
    "train_size = len(x_train_1)\n",
    "epoch = 100\n",
    "NUM_ITER = train_size * epoch\n",
    "lr = 0.01\n",
    "acc = np.zeros(epoch)"
   ]
  },
  {
   "cell_type": "markdown",
   "metadata": {},
   "source": [
    "<h2>Define Placeholder and Variables</h2>"
   ]
  },
  {
   "cell_type": "code",
   "execution_count": 7,
   "metadata": {},
   "outputs": [
    {
     "name": "stdout",
     "output_type": "stream",
     "text": [
      "WARNING:tensorflow:From C:\\Users\\13796\\Anaconda3\\envs\\EE596HW\\lib\\site-packages\\tensorflow\\python\\framework\\op_def_library.py:263: colocate_with (from tensorflow.python.framework.ops) is deprecated and will be removed in a future version.\n",
      "Instructions for updating:\n",
      "Colocations handled automatically by placer.\n"
     ]
    }
   ],
   "source": [
    "tf.reset_default_graph()\n",
    "X = tf.placeholder(tf.float32, shape=[None, 2], name='feature')\n",
    "Y = tf.placeholder(tf.float32, shape=[None, 1], name='label')\n",
    "# single perceptron\n",
    "W = tf.Variable(tf.random_normal([2,1]),tf.float32,name='W')\n",
    "b = tf.Variable(tf.zeros([1]),tf.float32,name='b')"
   ]
  },
  {
   "cell_type": "markdown",
   "metadata": {},
   "source": [
    "<h2>Define update rule and accuracy</h2>"
   ]
  },
  {
   "cell_type": "code",
   "execution_count": 8,
   "metadata": {},
   "outputs": [],
   "source": [
    "out = tf.matmul(X,W)+b\n",
    "Y_hat = tf.nn.sigmoid(out)\n",
    "cost = tf.reduce_mean(tf.nn.sigmoid_cross_entropy_with_logits(labels=Y, logits=out))\n",
    "train_step = tf.train.GradientDescentOptimizer(lr).minimize(cost)\n",
    "correct_pred = tf.equal(tf.round(Y_hat),tf.round(Y))\n",
    "accuracy = tf.reduce_mean(tf.cast(correct_pred,tf.float32),name='accuracy')"
   ]
  },
  {
   "cell_type": "markdown",
   "metadata": {},
   "source": [
    "<h2>Execute training</h2>"
   ]
  },
  {
   "cell_type": "code",
   "execution_count": 9,
   "metadata": {
    "scrolled": false
   },
   "outputs": [
    {
     "name": "stdout",
     "output_type": "stream",
     "text": [
      "epoch1.0\tAccuracy=0.657\n",
      "epoch2.0\tAccuracy=0.962\n",
      "epoch3.0\tAccuracy=0.971\n",
      "epoch4.0\tAccuracy=0.971\n",
      "epoch5.0\tAccuracy=0.990\n",
      "epoch6.0\tAccuracy=1.000\n",
      "epoch7.0\tAccuracy=1.000\n",
      "epoch8.0\tAccuracy=1.000\n",
      "epoch9.0\tAccuracy=1.000\n",
      "epoch10.0\tAccuracy=1.000\n",
      "epoch11.0\tAccuracy=1.000\n",
      "epoch12.0\tAccuracy=1.000\n",
      "epoch13.0\tAccuracy=1.000\n",
      "epoch14.0\tAccuracy=1.000\n",
      "epoch15.0\tAccuracy=1.000\n",
      "epoch16.0\tAccuracy=1.000\n",
      "epoch17.0\tAccuracy=1.000\n",
      "epoch18.0\tAccuracy=1.000\n",
      "epoch19.0\tAccuracy=1.000\n",
      "epoch20.0\tAccuracy=1.000\n",
      "epoch21.0\tAccuracy=1.000\n",
      "epoch22.0\tAccuracy=1.000\n",
      "epoch23.0\tAccuracy=1.000\n",
      "epoch24.0\tAccuracy=1.000\n",
      "epoch25.0\tAccuracy=1.000\n",
      "epoch26.0\tAccuracy=1.000\n",
      "epoch27.0\tAccuracy=1.000\n",
      "epoch28.0\tAccuracy=1.000\n",
      "epoch29.0\tAccuracy=1.000\n",
      "epoch30.0\tAccuracy=1.000\n",
      "epoch31.0\tAccuracy=1.000\n",
      "epoch32.0\tAccuracy=1.000\n",
      "epoch33.0\tAccuracy=1.000\n",
      "epoch34.0\tAccuracy=1.000\n",
      "epoch35.0\tAccuracy=1.000\n",
      "epoch36.0\tAccuracy=1.000\n",
      "epoch37.0\tAccuracy=1.000\n",
      "epoch38.0\tAccuracy=1.000\n",
      "epoch39.0\tAccuracy=1.000\n",
      "epoch40.0\tAccuracy=1.000\n",
      "epoch41.0\tAccuracy=1.000\n",
      "epoch42.0\tAccuracy=1.000\n",
      "epoch43.0\tAccuracy=1.000\n",
      "epoch44.0\tAccuracy=1.000\n",
      "epoch45.0\tAccuracy=1.000\n",
      "epoch46.0\tAccuracy=1.000\n",
      "epoch47.0\tAccuracy=1.000\n",
      "epoch48.0\tAccuracy=1.000\n",
      "epoch49.0\tAccuracy=1.000\n",
      "epoch50.0\tAccuracy=1.000\n",
      "epoch51.0\tAccuracy=1.000\n",
      "epoch52.0\tAccuracy=1.000\n",
      "epoch53.0\tAccuracy=1.000\n",
      "epoch54.0\tAccuracy=1.000\n",
      "epoch55.0\tAccuracy=1.000\n",
      "epoch56.0\tAccuracy=1.000\n",
      "epoch57.0\tAccuracy=1.000\n",
      "epoch58.0\tAccuracy=1.000\n",
      "epoch59.0\tAccuracy=1.000\n",
      "epoch60.0\tAccuracy=1.000\n",
      "epoch61.0\tAccuracy=1.000\n",
      "epoch62.0\tAccuracy=1.000\n",
      "epoch63.0\tAccuracy=1.000\n",
      "epoch64.0\tAccuracy=1.000\n",
      "epoch65.0\tAccuracy=1.000\n",
      "epoch66.0\tAccuracy=1.000\n",
      "epoch67.0\tAccuracy=1.000\n",
      "epoch68.0\tAccuracy=1.000\n",
      "epoch69.0\tAccuracy=1.000\n",
      "epoch70.0\tAccuracy=1.000\n",
      "epoch71.0\tAccuracy=1.000\n",
      "epoch72.0\tAccuracy=1.000\n",
      "epoch73.0\tAccuracy=1.000\n",
      "epoch74.0\tAccuracy=1.000\n",
      "epoch75.0\tAccuracy=1.000\n",
      "epoch76.0\tAccuracy=1.000\n",
      "epoch77.0\tAccuracy=1.000\n",
      "epoch78.0\tAccuracy=1.000\n",
      "epoch79.0\tAccuracy=1.000\n",
      "epoch80.0\tAccuracy=1.000\n",
      "epoch81.0\tAccuracy=1.000\n",
      "epoch82.0\tAccuracy=1.000\n",
      "epoch83.0\tAccuracy=1.000\n",
      "epoch84.0\tAccuracy=1.000\n",
      "epoch85.0\tAccuracy=1.000\n",
      "epoch86.0\tAccuracy=1.000\n",
      "epoch87.0\tAccuracy=1.000\n",
      "epoch88.0\tAccuracy=1.000\n",
      "epoch89.0\tAccuracy=1.000\n",
      "epoch90.0\tAccuracy=1.000\n",
      "epoch91.0\tAccuracy=1.000\n",
      "epoch92.0\tAccuracy=1.000\n",
      "epoch93.0\tAccuracy=1.000\n",
      "epoch94.0\tAccuracy=1.000\n",
      "epoch95.0\tAccuracy=1.000\n",
      "epoch96.0\tAccuracy=1.000\n",
      "epoch97.0\tAccuracy=1.000\n",
      "epoch98.0\tAccuracy=1.000\n",
      "epoch99.0\tAccuracy=1.000\n",
      "epoch100.0\tAccuracy=1.000\n",
      "Test\t\tAccuracy=1.000\n"
     ]
    }
   ],
   "source": [
    "init = tf.global_variables_initializer()\n",
    "with tf.Session() as sess:\n",
    "    sess.run(init)\n",
    "    for i in range(NUM_ITER):\n",
    "        sess.run(train_step, feed_dict={X: x_train_1, Y: y_train_1})\n",
    "        if i%train_size == 0:\n",
    "            acc[i//train_size] = sess.run(accuracy, feed_dict={X: x_train_1, Y: y_train_1})\n",
    "            print(\"epoch\"+str(i/train_size+1)+\"\\tAccuracy={:.3f}\".format(acc[i//train_size]))\n",
    "    w_ = np.squeeze(sess.run(W))\n",
    "    b_ = np.squeeze(sess.run(b))\n",
    "    outcome = sess.run(accuracy, feed_dict={X: x_test_1, Y: y_test_1})\n",
    "\n",
    "print(\"Test\\t\"+\"\\tAccuracy={:.3f}\".format(outcome))"
   ]
  },
  {
   "cell_type": "markdown",
   "metadata": {},
   "source": [
    "<h2>Plot</h2>"
   ]
  },
  {
   "cell_type": "code",
   "execution_count": 10,
   "metadata": {},
   "outputs": [
    {
     "data": {
      "image/png": "[encoded data removed]",
      "text/plain": [
       "<Figure size 432x288 with 1 Axes>"
      ]
     },
     "metadata": {
      "needs_background": "light"
     },
     "output_type": "display_data"
    },
    {
     "data": {
      "image/png": "[encoded data removed]",
      "text/plain": [
       "<Figure size 432x288 with 1 Axes>"
      ]
     },
     "metadata": {
      "needs_background": "light"
     },
     "output_type": "display_data"
    }
   ],
   "source": [
    "n = []\n",
    "for i in range(100):\n",
    "    n.append(i+1)\n",
    "plt.plot(n, acc, 'r-o')\n",
    "plt.show()\n",
    "plot_x1 = np.array([min(x_1['petal_length'])-0.3, max(x_1['petal_length'])+0.3])\n",
    "plot_y1 = 1 / w_[1] * (-w_[0] * plot_x1 - b_)\n",
    "plt.plot(plot_x1, plot_y1, color='k', linewidth=2)\n",
    "plt.scatter(x_1['petal_length'], x_1['petal_width'], c=np.squeeze(y_1), s=20, cmap='viridis')\n",
    "plt.xlim([min(x_1['petal_length'])-0.3, max(x_1['petal_length'])+0.3]);\n",
    "plt.ylim([min(x_1['petal_width'])-0.3, max(x_1['petal_width'])+0.3]);\n",
    "plt.show()"
   ]
  },
  {
   "cell_type": "markdown",
   "metadata": {},
   "source": [
    "<h1>Part b:</h1>"
   ]
  },
  {
   "cell_type": "code",
   "execution_count": null,
   "metadata": {},
   "outputs": [],
   "source": [
    "x_2,y_2 = data_preprocessing(dataset,2,flower='Iris-virginica')\n",
    "#generate traning and validation sets\n",
    "x_train_2, x_test_2, y_train_2, y_test_2 = train_test_split(x_2,y_2,test_size=0.3)"
   ]
  },
  {
   "cell_type": "markdown",
   "metadata": {},
   "source": [
    "<h2>Define hyper-parameter</h2>"
   ]
  },
  {
   "cell_type": "code",
   "execution_count": null,
   "metadata": {},
   "outputs": [],
   "source": []
  },
  {
   "cell_type": "markdown",
   "metadata": {},
   "source": [
    "<h2>Define Placeholder and Variables</h2>"
   ]
  },
  {
   "cell_type": "code",
   "execution_count": null,
   "metadata": {},
   "outputs": [],
   "source": [
    "tf.reset_default_graph()"
   ]
  },
  {
   "cell_type": "markdown",
   "metadata": {},
   "source": [
    "<h2>Define update rule and accuracy</h2>"
   ]
  },
  {
   "cell_type": "code",
   "execution_count": null,
   "metadata": {},
   "outputs": [],
   "source": []
  },
  {
   "cell_type": "markdown",
   "metadata": {},
   "source": [
    "<h2>Execute training</h2>"
   ]
  },
  {
   "cell_type": "code",
   "execution_count": null,
   "metadata": {},
   "outputs": [],
   "source": []
  },
  {
   "cell_type": "markdown",
   "metadata": {},
   "source": [
    "<h2>Plot</h2>"
   ]
  },
  {
   "cell_type": "code",
   "execution_count": null,
   "metadata": {},
   "outputs": [],
   "source": []
  },
  {
   "cell_type": "markdown",
   "metadata": {},
   "source": [
    "<h1>Part c:</h1>"
   ]
  },
  {
   "cell_type": "code",
   "execution_count": null,
   "metadata": {},
   "outputs": [],
   "source": [
    "x_3,y_3 = data_preprocessing(dataset,4)\n",
    "#generate traning and validation sets\n",
    "x_train_3, x_test_3, y_train_3, y_test_3 = train_test_split(x_3,y_3,test_size=0.3)"
   ]
  },
  {
   "cell_type": "markdown",
   "metadata": {},
   "source": [
    "<h2>Define hyper-parameters</h2>"
   ]
  },
  {
   "cell_type": "code",
   "execution_count": null,
   "metadata": {},
   "outputs": [],
   "source": []
  },
  {
   "cell_type": "markdown",
   "metadata": {},
   "source": [
    "<h2>Define placehoder and variables</h2>"
   ]
  },
  {
   "cell_type": "code",
   "execution_count": null,
   "metadata": {},
   "outputs": [],
   "source": [
    "tf.reset_default_graph()"
   ]
  },
  {
   "cell_type": "markdown",
   "metadata": {},
   "source": [
    "<h2>Define the neural network</h2>"
   ]
  },
  {
   "cell_type": "code",
   "execution_count": null,
   "metadata": {},
   "outputs": [],
   "source": []
  },
  {
   "cell_type": "markdown",
   "metadata": {},
   "source": [
    "<h2>Define cost function and accuracy</h2>"
   ]
  },
  {
   "cell_type": "code",
   "execution_count": null,
   "metadata": {},
   "outputs": [],
   "source": []
  },
  {
   "cell_type": "markdown",
   "metadata": {},
   "source": [
    "<h2>Execute training</h2>"
   ]
  },
  {
   "cell_type": "code",
   "execution_count": null,
   "metadata": {
    "scrolled": false
   },
   "outputs": [],
   "source": []
  },
  {
   "cell_type": "markdown",
   "metadata": {},
   "source": [
    "<h2>Plot</h2>"
   ]
  },
  {
   "cell_type": "code",
   "execution_count": null,
   "metadata": {},
   "outputs": [],
   "source": []
  }
 ],
 "metadata": {
  "kernelspec": {
   "display_name": "Python 3",
   "language": "python",
   "name": "python3"
  },
  "language_info": {
   "codemirror_mode": {
    "name": "ipython",
    "version": 3
   },
   "file_extension": ".py",
   "mimetype": "text/x-python",
   "name": "python",
   "nbconvert_exporter": "python",
   "pygments_lexer": "ipython3",
   "version": "3.6.8"
  }
 },
 "nbformat": 4,
 "nbformat_minor": 2
}
