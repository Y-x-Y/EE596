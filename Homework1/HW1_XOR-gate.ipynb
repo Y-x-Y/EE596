{
 "cells": [
  {
   "cell_type": "code",
   "execution_count": 1,
   "metadata": {},
   "outputs": [],
   "source": [
    "import tensorflow as tf\n",
    "import numpy as np\n",
    "import matplotlib.pyplot as plt"
   ]
  },
  {
   "cell_type": "markdown",
   "metadata": {},
   "source": [
    "<h2>Define Hyper-parameters</h2>"
   ]
  },
  {
   "cell_type": "code",
   "execution_count": 2,
   "metadata": {},
   "outputs": [],
   "source": [
    "NUM_ITER = 10000\n",
    "lr = 0.1"
   ]
  },
  {
   "cell_type": "markdown",
   "metadata": {},
   "source": [
    "<h2>Define your input data and expected labels</h2>"
   ]
  },
  {
   "cell_type": "code",
   "execution_count": 3,
   "metadata": {},
   "outputs": [],
   "source": [
    "x = np.array([[0,0],[0, 1], [1, 0], [1, 1]], np.float32)\n",
    "y = np.array([[0], [1], [1], [0]], np.float32)\n",
    "y = np.reshape(y,[4,1])\n",
    "tf.reset_default_graph()"
   ]
  },
  {
   "cell_type": "markdown",
   "metadata": {},
   "source": [
    "<h2>Define placeholder and Variables</h2>"
   ]
  },
  {
   "cell_type": "code",
   "execution_count": 4,
   "metadata": {},
   "outputs": [
    {
     "name": "stdout",
     "output_type": "stream",
     "text": [
      "WARNING:tensorflow:From c:\\users\\13796\\anaconda3\\envs\\ee596\\lib\\site-packages\\tensorflow\\python\\framework\\op_def_library.py:263: colocate_with (from tensorflow.python.framework.ops) is deprecated and will be removed in a future version.\n",
      "Instructions for updating:\n",
      "Colocations handled automatically by placer.\n"
     ]
    }
   ],
   "source": [
    "X = tf.placeholder(tf.float32, shape=[4, 2], name='X')\n",
    "Y = tf.placeholder(tf.float32, shape=[4, 1], name='Y')\n",
    "\n",
    "# W1, b1 is one hidden layer with two neurons\n",
    "# W2, b2 is out put layer\n",
    "W1 = tf.Variable(tf.random_normal([2, 2]), name='weights1')\n",
    "W2 = tf.Variable(tf.random_normal([2, 1]), name='weights2')\n",
    "\n",
    "b1 = tf.Variable(tf.zeros([2]), name='bias1')\n",
    "b2 = tf.Variable(tf.zeros([1]), name='bias2')"
   ]
  },
  {
   "cell_type": "markdown",
   "metadata": {},
   "source": [
    "<h2>Define the neural network</h2>"
   ]
  },
  {
   "cell_type": "code",
   "execution_count": 5,
   "metadata": {},
   "outputs": [],
   "source": [
    "H = tf.nn.sigmoid(tf.matmul(X,W1)+b1)\n",
    "out = tf.matmul(H,W2)+b2\n",
    "Y_hat = tf.nn.sigmoid(out)"
   ]
  },
  {
   "cell_type": "markdown",
   "metadata": {},
   "source": [
    "<h2>Define cost function</h2>"
   ]
  },
  {
   "cell_type": "code",
   "execution_count": 6,
   "metadata": {},
   "outputs": [],
   "source": [
    "cost = tf.reduce_mean(tf.nn.sigmoid_cross_entropy_with_logits(labels=Y, logits=out))"
   ]
  },
  {
   "cell_type": "markdown",
   "metadata": {},
   "source": [
    "<h2>Execute training</h2>"
   ]
  },
  {
   "cell_type": "code",
   "execution_count": 8,
   "metadata": {
    "scrolled": false
   },
   "outputs": [
    {
     "name": "stdout",
     "output_type": "stream",
     "text": [
      "step0\tAccuracy=0.50\n",
      "step500\tAccuracy=0.50\n",
      "step1000\tAccuracy=0.50\n",
      "step1500\tAccuracy=0.50\n",
      "step2000\tAccuracy=0.50\n",
      "step2500\tAccuracy=0.25\n",
      "step3000\tAccuracy=0.50\n",
      "step3500\tAccuracy=0.50\n",
      "step4000\tAccuracy=0.50\n",
      "step4500\tAccuracy=0.50\n",
      "step5000\tAccuracy=0.75\n",
      "step5500\tAccuracy=0.75\n",
      "step6000\tAccuracy=1.00\n",
      "step6500\tAccuracy=1.00\n",
      "step7000\tAccuracy=1.00\n",
      "step7500\tAccuracy=1.00\n",
      "step8000\tAccuracy=1.00\n",
      "step8500\tAccuracy=1.00\n",
      "step9000\tAccuracy=1.00\n",
      "step9500\tAccuracy=1.00\n",
      "Prediction without round to 0 and 1:\n",
      "[[0.0277181 ]\n",
      " [0.9642645 ]\n",
      " [0.9743533 ]\n",
      " [0.02327722]]\n",
      "input:\t[0. 0.]\toutput:[0.]\n",
      "input:\t[0. 1.]\toutput:[1.]\n",
      "input:\t[1. 0.]\toutput:[1.]\n",
      "input:\t[1. 1.]\toutput:[0.]\n"
     ]
    }
   ],
   "source": [
    "train_step = tf.train.GradientDescentOptimizer(lr).minimize(cost)\n",
    "correct_pred = tf.equal(tf.round(Y_hat),tf.round(Y))\n",
    "accuracy = tf.reduce_mean(tf.cast(correct_pred,tf.float32),name='accuracy')\n",
    "\n",
    "init = tf.global_variables_initializer()\n",
    "with tf.Session() as sess:\n",
    "    sess.run(init)\n",
    "    for i in range(NUM_ITER):\n",
    "        sess.run(train_step, feed_dict={X: x, Y: y})\n",
    "        if i%500 == 0:\n",
    "            acc = sess.run(accuracy, feed_dict={X: x, Y: y})\n",
    "            print(\"step\"+str(i)+\"\\tAccuracy={:.2f}\".format(acc))\n",
    "    w_1 = np.squeeze(sess.run(W1))\n",
    "    b_1 = np.squeeze(sess.run(b1))\n",
    "    w_2 = np.squeeze(sess.run(W2))\n",
    "    b_2 = np.squeeze(sess.run(b2))\n",
    "    outcome = sess.run(Y_hat, feed_dict={X: x, Y: y})\n",
    "\n",
    "print(\"Prediction without round to 0 and 1:\\n\"+str(outcome))\n",
    "print(\"input:\\t\"+str(x[0])+\"\\toutput:\"+str(np.round(outcome[0])))\n",
    "print(\"input:\\t\"+str(x[1])+\"\\toutput:\"+str(np.round(outcome[1])))\n",
    "print(\"input:\\t\"+str(x[2])+\"\\toutput:\"+str(np.round(outcome[2])))\n",
    "print(\"input:\\t\"+str(x[3])+\"\\toutput:\"+str(np.round(outcome[3])))\n"
   ]
  },
  {
   "cell_type": "markdown",
   "metadata": {},
   "source": [
    "<h2>Plot</h2>"
   ]
  },
  {
   "cell_type": "code",
   "execution_count": 9,
   "metadata": {},
   "outputs": [
    {
     "data": {
      "image/png": "[encoded data removed]",
      "text/plain": [
       "<Figure size 432x288 with 1 Axes>"
      ]
     },
     "metadata": {
      "needs_background": "light"
     },
     "output_type": "display_data"
    }
   ],
   "source": [
    "plot_x = np.array([np.min(x[:, 0] - 0.2), np.max(x[:, 1]+0.2)])\n",
    "plot_y1 = 1 / w_1[1][0] * (-w_1[0][0] * plot_x - b_1[0])\n",
    "plot_y2 = 1 / w_1[1][1] * (-w_1[0][1] * plot_x - b_1[1])\n",
    "plt.scatter(x[:, 0], x[:, 1], c=np.squeeze(y), s=100, cmap='viridis')\n",
    "plt.plot(plot_x, plot_y1, color='k', linewidth=2)\n",
    "plt.plot(plot_x, plot_y2, color='k', linewidth=2)\n",
    "plt.xlim([-0.2, 1.2]); plt.ylim([-0.2, 1.25]);\n",
    "plt.show()"
   ]
  }
 ],
 "metadata": {
  "kernelspec": {
   "display_name": "Python 3",
   "language": "python",
   "name": "python3"
  },
  "language_info": {
   "codemirror_mode": {
    "name": "ipython",
    "version": 3
   },
   "file_extension": ".py",
   "mimetype": "text/x-python",
   "name": "python",
   "nbconvert_exporter": "python",
   "pygments_lexer": "ipython3",
   "version": "3.7.3"
  }
 },
 "nbformat": 4,
 "nbformat_minor": 2
}
